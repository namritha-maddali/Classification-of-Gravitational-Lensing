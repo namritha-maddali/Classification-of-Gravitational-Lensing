{
  "cells": [
    {
      "cell_type": "markdown",
      "metadata": {
        "id": "taSctIplzXxv"
      },
      "source": [
        "# **Common Test – Classification of Gravitational Lensing Images**\n",
        "### **Introduction**\n",
        "\n",
        "Gravitational Lensing occurs when an extremely massive celestial body causes curvature in spacetime, visibly bending the light around it. *Gravitational Lens* is the term used to refer to these bodies. Basically, **the light from sources like other galaxies and stars are redirected around the gravitational lens, making the light look “bent”**. A famous example of this can be seen in the theorized black hole images\n",
        "\n",
        "This was *first theorised by Einstein* in his General Theory of Relativity, where he described how space around mass concentrations get distorted.\n"
      ]
    },
    {
      "cell_type": "code",
      "execution_count": 1,
      "metadata": {
        "colab": {
          "base_uri": "https://localhost:8080/"
        },
        "id": "gzPOKDUP8s5z",
        "outputId": "4c62433a-dbc0-4020-afa1-396bb8011112"
      },
      "outputs": [
        {
          "name": "stdout",
          "output_type": "stream",
          "text": [
            "Mounted at /content/drive\n"
          ]
        }
      ],
      "source": [
        "from google.colab import drive\n",
        "drive.mount('/content/drive')"
      ]
    },
    {
      "cell_type": "code",
      "execution_count": 3,
      "metadata": {
        "colab": {
          "base_uri": "https://localhost:8080/"
        },
        "execution": {
          "iopub.execute_input": "2025-03-25T13:46:36.182467Z",
          "iopub.status.busy": "2025-03-25T13:46:36.182029Z",
          "iopub.status.idle": "2025-03-25T13:46:36.238723Z",
          "shell.execute_reply": "2025-03-25T13:46:36.237768Z",
          "shell.execute_reply.started": "2025-03-25T13:46:36.182435Z"
        },
        "id": "IXXQqO1T8ilg",
        "outputId": "4b0e8be3-3ad0-4d0b-dc86-f3c1e1ac57f9",
        "trusted": true
      },
      "outputs": [
        {
          "data": {
            "text/plain": [
              "device(type='cuda')"
            ]
          },
          "execution_count": 3,
          "metadata": {},
          "output_type": "execute_result"
        }
      ],
      "source": [
        "import torch\n",
        "device = torch.device(\"cuda\" if torch.cuda.is_available() else \"cpu\")\n",
        "device"
      ]
    },
    {
      "cell_type": "markdown",
      "metadata": {
        "id": "hnSKsFj9zb37"
      },
      "source": [
        "## **Dataset**\n",
        "- 10,000 images of the class “no”\n",
        "    - **No Substructure** – smooth and symmetric lensing pattern\n",
        "- 10,000 images of the class “sphere”\n",
        "    - **Subhalo Substructure** – small distortions due to subhalos\n",
        "- 10,000 images of the class “vortex”\n",
        "    - **Vortex Substructure** – complex, swirling distortions caused by turbulent masses, potentially influenced by strong gravitational interactions or other forces."
      ]
    },
    {
      "cell_type": "code",
      "execution_count": 4,
      "metadata": {
        "id": "p_Tm1TF69AE1"
      },
      "outputs": [],
      "source": [
        "!unzip -q /content/drive/MyDrive/dataset.zip -d /content/data"
      ]
    },
    {
      "cell_type": "code",
      "execution_count": 5,
      "metadata": {
        "execution": {
          "iopub.execute_input": "2025-03-25T13:46:36.240652Z",
          "iopub.status.busy": "2025-03-25T13:46:36.240128Z",
          "iopub.status.idle": "2025-03-25T13:46:36.255902Z",
          "shell.execute_reply": "2025-03-25T13:46:36.255040Z",
          "shell.execute_reply.started": "2025-03-25T13:46:36.240619Z"
        },
        "id": "el6P4i3z8ili",
        "trusted": true
      },
      "outputs": [],
      "source": [
        "path = '/content/data/dataset/train/'"
      ]
    },
    {
      "cell_type": "markdown",
      "metadata": {
        "id": "q7xRD5JpzerB"
      },
      "source": [
        "**Visualizing The Data**"
      ]
    },
    {
      "cell_type": "code",
      "execution_count": null,
      "metadata": {},
      "outputs": [],
      "source": [
        "import numpy as np\n",
        "import matplotlib.pyplot as plt"
      ]
    },
    {
      "cell_type": "code",
      "execution_count": null,
      "metadata": {
        "colab": {
          "base_uri": "https://localhost:8080/",
          "height": 322
        },
        "execution": {
          "iopub.execute_input": "2025-03-25T13:46:36.265843Z",
          "iopub.status.busy": "2025-03-25T13:46:36.265536Z",
          "iopub.status.idle": "2025-03-25T13:46:36.822302Z",
          "shell.execute_reply": "2025-03-25T13:46:36.821384Z",
          "shell.execute_reply.started": "2025-03-25T13:46:36.265811Z"
        },
        "id": "baX-xDpM8ilj",
        "outputId": "81067257-0324-4b3c-9dad-3891b166f31b",
        "trusted": true
      },
      "outputs": [
        {
          "data": {
            "text/plain": [
              "(np.float64(-0.5), np.float64(149.5), np.float64(149.5), np.float64(-0.5))"
            ]
          },
          "execution_count": 6,
          "metadata": {},
          "output_type": "execute_result"
        },
        {
          "data": {
            "image/png": "[encoded data removed]",
            "text/plain": [
              "<Figure size 1200x400 with 3 Axes>"
            ]
          },
          "metadata": {},
          "output_type": "display_data"
        }
      ],
      "source": [
        "sample_no = np.squeeze(np.load(path+'no/996.npy'))\n",
        "sample_sphere = np.squeeze(np.load(path+'sphere/996.npy'))\n",
        "sample_vort = np.squeeze(np.load(path+'vort/996.npy'))\n",
        "\n",
        "fig, axes = plt.subplots(1, 3, figsize=(12, 4))\n",
        "\n",
        "axes[0].imshow(sample_no, cmap=\"gray\")\n",
        "axes[0].set_title(\"No Substructure\")\n",
        "axes[0].axis(\"off\")\n",
        "\n",
        "axes[1].imshow(sample_sphere, cmap=\"gray\")\n",
        "axes[1].set_title(\"Subhalo Substructure\")\n",
        "axes[1].axis(\"off\")\n",
        "\n",
        "axes[2].imshow(sample_vort, cmap=\"gray\")\n",
        "axes[2].set_title(\"Vortex Substructure\")\n",
        "axes[2].axis(\"off\")"
      ]
    },
    {
      "cell_type": "markdown",
      "metadata": {
        "id": "DsZ9vqskzmf-"
      },
      "source": [
        "**Loading the training data into a pytorch dataset object**\n",
        "\n",
        "Image numpy arrays are **converted to tensors** before converting into a dataset"
      ]
    },
    {
      "cell_type": "code",
      "execution_count": 40,
      "metadata": {
        "execution": {
          "iopub.execute_input": "2025-03-25T13:46:39.318684Z",
          "iopub.status.busy": "2025-03-25T13:46:39.318329Z",
          "iopub.status.idle": "2025-03-25T13:46:41.624123Z",
          "shell.execute_reply": "2025-03-25T13:46:41.623189Z",
          "shell.execute_reply.started": "2025-03-25T13:46:39.318654Z"
        },
        "id": "ujd5JXU-8ilk",
        "trusted": true
      },
      "outputs": [],
      "source": [
        "from torchvision import datasets\n",
        "from torch.utils.data import DataLoader"
      ]
    },
    {
      "cell_type": "code",
      "execution_count": 8,
      "metadata": {
        "execution": {
          "iopub.execute_input": "2025-03-25T13:46:41.625696Z",
          "iopub.status.busy": "2025-03-25T13:46:41.625241Z",
          "iopub.status.idle": "2025-03-25T13:47:35.719921Z",
          "shell.execute_reply": "2025-03-25T13:47:35.719226Z",
          "shell.execute_reply.started": "2025-03-25T13:46:41.625671Z"
        },
        "id": "l8hRqeXW8ilm",
        "trusted": true
      },
      "outputs": [],
      "source": [
        "def npy_loader(path):\n",
        "  sample = torch.from_numpy(np.load(path))\n",
        "  return sample.float()\n",
        "\n",
        "dataset = datasets.DatasetFolder(\n",
        "  root=path,\n",
        "  loader=npy_loader,\n",
        "  extensions=['.npy']\n",
        ")"
      ]
    },
    {
      "cell_type": "code",
      "execution_count": 9,
      "metadata": {
        "colab": {
          "base_uri": "https://localhost:8080/"
        },
        "execution": {
          "iopub.execute_input": "2025-03-25T13:47:35.721464Z",
          "iopub.status.busy": "2025-03-25T13:47:35.721257Z",
          "iopub.status.idle": "2025-03-25T13:47:35.726195Z",
          "shell.execute_reply": "2025-03-25T13:47:35.725454Z",
          "shell.execute_reply.started": "2025-03-25T13:47:35.721446Z"
        },
        "id": "4ck_8QWf8iln",
        "outputId": "b0d51ed4-2fa9-47d4-d0c7-b726d6978134",
        "trusted": true
      },
      "outputs": [
        {
          "data": {
            "text/plain": [
              "Dataset DatasetFolder\n",
              "    Number of datapoints: 30000\n",
              "    Root location: /content/data/dataset/train/"
            ]
          },
          "execution_count": 9,
          "metadata": {},
          "output_type": "execute_result"
        }
      ],
      "source": [
        "dataset"
      ]
    },
    {
      "cell_type": "code",
      "execution_count": 10,
      "metadata": {
        "colab": {
          "base_uri": "https://localhost:8080/"
        },
        "execution": {
          "iopub.execute_input": "2025-03-25T13:47:35.727816Z",
          "iopub.status.busy": "2025-03-25T13:47:35.727500Z",
          "iopub.status.idle": "2025-03-25T13:47:35.745686Z",
          "shell.execute_reply": "2025-03-25T13:47:35.745049Z",
          "shell.execute_reply.started": "2025-03-25T13:47:35.727782Z"
        },
        "id": "W8_tkuqa8ilo",
        "outputId": "c2db42ee-6888-471a-d802-b7856a297ff3",
        "trusted": true
      },
      "outputs": [
        {
          "name": "stdout",
          "output_type": "stream",
          "text": [
            "Classes: ['no', 'sphere', 'vort']\n"
          ]
        }
      ],
      "source": [
        "class_names = dataset.classes\n",
        "print(f\"Classes: {class_names}\")"
      ]
    },
    {
      "cell_type": "code",
      "execution_count": 11,
      "metadata": {
        "execution": {
          "iopub.execute_input": "2025-03-25T13:47:35.746669Z",
          "iopub.status.busy": "2025-03-25T13:47:35.746400Z",
          "iopub.status.idle": "2025-03-25T13:47:35.761392Z",
          "shell.execute_reply": "2025-03-25T13:47:35.760793Z",
          "shell.execute_reply.started": "2025-03-25T13:47:35.746648Z"
        },
        "id": "CC_VFhPH8ilq",
        "trusted": true
      },
      "outputs": [],
      "source": [
        "train_loader = DataLoader(dataset, batch_size=32, shuffle=True)"
      ]
    },
    {
      "cell_type": "markdown",
      "metadata": {
        "id": "p0aBB_It8ilv"
      },
      "source": [
        "## **The ResNet Model**\n",
        "- ResNets are **deeper networks than typical CNNs** and have lesser number of trainable parameters, making it better, faster, and more efficient to train.\n",
        "\n",
        "- **Incredible training and stable validation loss curves**, ability to generalize and avoid overfitting, and simplicity in architecture make it an ideal model to train for this problem statement!\n"
      ]
    },
    {
      "cell_type": "markdown",
      "metadata": {
        "id": "n9avjsxfz4HZ"
      },
      "source": [
        "Why custom architecture?\n",
        "- The PyTorch pretrained ResNet model has a lot of restrictions with respect to the image size, number of layers, trained classes, etc.\n",
        "\n",
        "- Another reason for experimenting with the core ResNet architecture was **curiosity**! To explore how it essentially works and how it can be fine-tuned to be solve the task at hand."
      ]
    },
    {
      "cell_type": "markdown",
      "metadata": {
        "id": "BZwGO-ldz6zK"
      },
      "source": [
        "### **The Main ResNet Architecture**\n",
        "- **Initial Block** = 7x7 Convolution layer with a stride of 2\n",
        "\n",
        "- **Max Pooling** is performed on the initial block to get it to 3x3 size output\n",
        "\n",
        "- **Residual Layers** = 4 Residual blocks with increasing number of planes (filters)\n",
        "    - First Layer = 3 Blocks\n",
        "    - Second Layer = 4 Blocks\n",
        "    - Third Layer = 6 Blocks\n",
        "    - Fourth Layer = 3 Blocks\n",
        "\n",
        "- **Adaptive Average Pooling** = to downsample the output of the residual layers to a 1x1 form so that it can be fed to the fully connected layer\n",
        "\n",
        "- **Fully Connected Layer** = maps extracted features to the required classes"
      ]
    },
    {
      "cell_type": "code",
      "execution_count": 42,
      "metadata": {
        "id": "CO-TT9BUzrL-"
      },
      "outputs": [],
      "source": [
        "import torch\n",
        "import torch.nn as nn"
      ]
    },
    {
      "cell_type": "code",
      "execution_count": null,
      "metadata": {
        "execution": {
          "iopub.execute_input": "2025-03-25T13:47:53.428179Z",
          "iopub.status.busy": "2025-03-25T13:47:53.427933Z",
          "iopub.status.idle": "2025-03-25T13:47:53.445471Z",
          "shell.execute_reply": "2025-03-25T13:47:53.444763Z",
          "shell.execute_reply.started": "2025-03-25T13:47:53.428151Z"
        },
        "id": "ZoXDOOkZ8ilw",
        "trusted": true
      },
      "outputs": [],
      "source": [
        "class ResNet(nn.Module):\n",
        "    def __init__(self, block, layers, num_classes=3):\n",
        "        '''\n",
        "            Input:\n",
        "                block - residual block class\n",
        "                layers - number of residual blocks in each of the four layers\n",
        "                num_classes - number of classes, default 3 (specific to this problem statement)\n",
        "        '''\n",
        "        super(ResNet, self).__init__()\n",
        "        self.inplanes = 64\n",
        "\n",
        "        # initial layer\n",
        "        self.conv1 = nn.Sequential(\n",
        "            nn.Conv2d(1, 64, kernel_size=7, stride=2, padding=3),\n",
        "            nn.BatchNorm2d(64),\n",
        "            nn.ReLU()\n",
        "        )\n",
        "        self.maxpool = nn.MaxPool2d(kernel_size=3, stride=2, padding=1)\n",
        "\n",
        "        # layers of residual blocks\n",
        "        self.layer0 = self._make_layer(block, 64, layers[0], stride=1)\n",
        "        self.layer1 = self._make_layer(block, 128, layers[1], stride=2)\n",
        "        self.layer2 = self._make_layer(block, 256, layers[2], stride=2)\n",
        "        self.layer3 = self._make_layer(block, 512, layers[3], stride=2)\n",
        "        self.avgpool = nn.AdaptiveAvgPool2d(1)\n",
        "        self.fc = nn.Linear(512, num_classes)\n",
        "        self.dropout = nn.Dropout(0.5)\n",
        "\n",
        "    def _make_layer(self, block, planes, blocks, stride=1):\n",
        "        '''\n",
        "            Input:\n",
        "                block - residual block class\n",
        "                planes - number of output channels of the layer (number of filters)\n",
        "                blocks - number of residual blocks in the layer\n",
        "                stride - to control downsampling\n",
        "\n",
        "            Output:\n",
        "                all blocks are combined into an nn.Sequential module\n",
        "        '''\n",
        "        downsample = None\n",
        "        if stride != 1 or self.inplanes != planes:\n",
        "            downsample = nn.Sequential(\n",
        "                nn.Conv2d(self.inplanes, planes, kernel_size=1, stride=stride, bias=False),\n",
        "                nn.BatchNorm2d(planes),\n",
        "            )\n",
        "\n",
        "        layers = [block(self.inplanes, planes, stride, downsample)]\n",
        "        self.inplanes = planes\n",
        "        for i in range(1, blocks):\n",
        "            layers.append(block(self.inplanes, planes))\n",
        "\n",
        "        return nn.Sequential(*layers)\n",
        "\n",
        "    def forward(self, x):\n",
        "        '''\n",
        "            Input:\n",
        "                x - image tensor with (batch size, channels, height, width)\n",
        "\n",
        "            Output:\n",
        "                x - (batch size, number of output classes), raw logit values\n",
        "        '''\n",
        "        x = self.conv1(x)\n",
        "        x = self.maxpool(x)\n",
        "        x = self.layer0(x)\n",
        "        x = self.layer1(x)\n",
        "        x = self.layer2(x)\n",
        "        x = self.layer3(x)\n",
        "        x = self.avgpool(x)\n",
        "        x = torch.flatten(x, 1)\n",
        "        x = self.dropout(x)\n",
        "        x = self.fc(x)\n",
        "        return x"
      ]
    },
    {
      "cell_type": "markdown",
      "metadata": {
        "id": "vEO2EmBf0BwI"
      },
      "source": [
        "### **The Residual Block**\n",
        "- It has **2 batch-normalized convolution layers** of size 3x3 each, and is downsampled depending on the stride provided\n",
        "\n",
        "- ReLU is applied to the final output of this block.\n",
        "\n",
        "- This is the block that is used to **tackle Vanishing Gradients** and skip connections to learn better.\n"
      ]
    },
    {
      "cell_type": "code",
      "execution_count": null,
      "metadata": {
        "execution": {
          "iopub.execute_input": "2025-03-25T13:47:53.446533Z",
          "iopub.status.busy": "2025-03-25T13:47:53.446298Z",
          "iopub.status.idle": "2025-03-25T13:47:53.466060Z",
          "shell.execute_reply": "2025-03-25T13:47:53.465343Z",
          "shell.execute_reply.started": "2025-03-25T13:47:53.446505Z"
        },
        "id": "ETq1kvPa8ilw",
        "trusted": true
      },
      "outputs": [],
      "source": [
        "class ResidualBlock(nn.Module):\n",
        "        def __init__(self, in_channels, out_channels, stride = 1, downsample = None):\n",
        "            '''\n",
        "                Input:\n",
        "                    in_channels - number of input channels\n",
        "                    out_channels - number of output channels\n",
        "                    stride - controls downsampling, for the first convolution\n",
        "                    downsample - downsampling layer to match dimenstions for skip connection\n",
        "            '''\n",
        "\n",
        "            super(ResidualBlock, self).__init__()\n",
        "            self.conv1 = nn.Sequential(\n",
        "                            nn.Conv2d(in_channels, out_channels, kernel_size = 3, stride = stride, padding = 1, bias=False),\n",
        "                            nn.BatchNorm2d(out_channels),\n",
        "                            nn.ReLU(inplace=True))\n",
        "            self.conv2 = nn.Sequential(\n",
        "                            nn.Conv2d(out_channels, out_channels, kernel_size = 3, stride = 1, padding = 1, bias=False),\n",
        "                            nn.BatchNorm2d(out_channels))\n",
        "            self.downsample = downsample\n",
        "            self.relu = nn.ReLU(inplace=True)\n",
        "            self.out_channels = out_channels\n",
        "\n",
        "        def forward(self, x):\n",
        "            '''\n",
        "                Input:\n",
        "                    x - image tensor with (batch size, input channels, height, width)\n",
        "\n",
        "                Output:\n",
        "                    x - (batch size, output channels, new height, new width) \n",
        "            '''\n",
        "            residual = x\n",
        "            out = self.conv1(x)\n",
        "            out = self.conv2(out)\n",
        "            if self.downsample:\n",
        "                residual = self.downsample(x)\n",
        "            out += residual\n",
        "            return self.relu(out)"
      ]
    },
    {
      "cell_type": "markdown",
      "metadata": {
        "id": "fIXySTgnzyvR"
      },
      "source": [
        "## **The Training Process**"
      ]
    },
    {
      "cell_type": "code",
      "execution_count": 27,
      "metadata": {
        "execution": {
          "iopub.execute_input": "2025-03-25T17:21:41.321659Z",
          "iopub.status.busy": "2025-03-25T17:21:41.321277Z",
          "iopub.status.idle": "2025-03-25T17:21:41.553710Z",
          "shell.execute_reply": "2025-03-25T17:21:41.552971Z",
          "shell.execute_reply.started": "2025-03-25T17:21:41.321626Z"
        },
        "id": "7XNef88A8ilx",
        "trusted": true
      },
      "outputs": [],
      "source": [
        "num_epochs = 45\n",
        "batch_size = 24\n",
        "\n",
        "# Finally, it is a ResNet 34 like model with a total of 34 convolution layers (6+8+12+6)\n",
        "model = ResNet(ResidualBlock, [3, 4, 6, 3]).to(device) # each layer has two convolution layers\n",
        "\n",
        "# loss funtion\n",
        "criterion = nn.CrossEntropyLoss() # measure the classification model’s performance\n",
        "\n",
        "# optimization\n",
        "optimizer = torch.optim.SGD(model.parameters(), lr=0.001, weight_decay = 0.001, momentum = 0.9) # updates model weights based on the gradient of loss function with respect to the parameters"
      ]
    },
    {
      "cell_type": "code",
      "execution_count": null,
      "metadata": {
        "colab": {
          "base_uri": "https://localhost:8080/"
        },
        "execution": {
          "iopub.execute_input": "2025-03-25T17:21:41.866175Z",
          "iopub.status.busy": "2025-03-25T17:21:41.865880Z",
          "iopub.status.idle": "2025-03-25T18:27:47.734533Z",
          "shell.execute_reply": "2025-03-25T18:27:47.733515Z",
          "shell.execute_reply.started": "2025-03-25T17:21:41.866152Z"
        },
        "id": "0RgbsvvA8ilx",
        "outputId": "99b67302-43a7-462e-ed0f-a687cb1152ca",
        "trusted": true
      },
      "outputs": [
        {
          "name": "stderr",
          "output_type": "stream",
          "text": [
            "100%|██████████| 938/938 [01:34<00:00,  9.90it/s]\n"
          ]
        },
        {
          "name": "stdout",
          "output_type": "stream",
          "text": [
            "Epoch [1/48], Average Loss: 1.1674\n"
          ]
        },
        {
          "name": "stderr",
          "output_type": "stream",
          "text": [
            "100%|██████████| 938/938 [01:34<00:00,  9.90it/s]\n"
          ]
        },
        {
          "name": "stdout",
          "output_type": "stream",
          "text": [
            "Epoch [2/48], Average Loss: 1.1325\n"
          ]
        },
        {
          "name": "stderr",
          "output_type": "stream",
          "text": [
            "100%|██████████| 938/938 [01:34<00:00,  9.98it/s]\n"
          ]
        },
        {
          "name": "stdout",
          "output_type": "stream",
          "text": [
            "Epoch [3/48], Average Loss: 1.1199\n"
          ]
        },
        {
          "name": "stderr",
          "output_type": "stream",
          "text": [
            "100%|██████████| 938/938 [01:35<00:00,  9.85it/s]\n"
          ]
        },
        {
          "name": "stdout",
          "output_type": "stream",
          "text": [
            "Epoch [4/48], Average Loss: 1.1133\n"
          ]
        },
        {
          "name": "stderr",
          "output_type": "stream",
          "text": [
            "100%|██████████| 938/938 [01:34<00:00,  9.96it/s]\n"
          ]
        },
        {
          "name": "stdout",
          "output_type": "stream",
          "text": [
            "Epoch [5/48], Average Loss: 1.1091\n"
          ]
        },
        {
          "name": "stderr",
          "output_type": "stream",
          "text": [
            "100%|██████████| 938/938 [01:35<00:00,  9.87it/s]\n"
          ]
        },
        {
          "name": "stdout",
          "output_type": "stream",
          "text": [
            "Epoch [6/48], Average Loss: 1.1065\n"
          ]
        },
        {
          "name": "stderr",
          "output_type": "stream",
          "text": [
            "100%|██████████| 938/938 [01:34<00:00,  9.87it/s]\n"
          ]
        },
        {
          "name": "stdout",
          "output_type": "stream",
          "text": [
            "Epoch [7/48], Average Loss: 1.1049\n"
          ]
        },
        {
          "name": "stderr",
          "output_type": "stream",
          "text": [
            "100%|██████████| 938/938 [01:33<00:00, 10.06it/s]\n"
          ]
        },
        {
          "name": "stdout",
          "output_type": "stream",
          "text": [
            "Epoch [8/48], Average Loss: 1.1027\n"
          ]
        },
        {
          "name": "stderr",
          "output_type": "stream",
          "text": [
            "100%|██████████| 938/938 [01:34<00:00,  9.91it/s]\n"
          ]
        },
        {
          "name": "stdout",
          "output_type": "stream",
          "text": [
            "Epoch [9/48], Average Loss: 1.1017\n"
          ]
        },
        {
          "name": "stderr",
          "output_type": "stream",
          "text": [
            "100%|██████████| 938/938 [01:35<00:00,  9.79it/s]\n"
          ]
        },
        {
          "name": "stdout",
          "output_type": "stream",
          "text": [
            "Epoch [10/48], Average Loss: 1.0992\n"
          ]
        },
        {
          "name": "stderr",
          "output_type": "stream",
          "text": [
            "100%|██████████| 938/938 [01:32<00:00, 10.09it/s]\n"
          ]
        },
        {
          "name": "stdout",
          "output_type": "stream",
          "text": [
            "Epoch [11/48], Average Loss: 1.0978\n"
          ]
        },
        {
          "name": "stderr",
          "output_type": "stream",
          "text": [
            "100%|██████████| 938/938 [01:33<00:00, 10.05it/s]\n"
          ]
        },
        {
          "name": "stdout",
          "output_type": "stream",
          "text": [
            "Epoch [12/48], Average Loss: 1.0949\n"
          ]
        },
        {
          "name": "stderr",
          "output_type": "stream",
          "text": [
            "100%|██████████| 938/938 [01:35<00:00,  9.81it/s]\n"
          ]
        },
        {
          "name": "stdout",
          "output_type": "stream",
          "text": [
            "Epoch [13/48], Average Loss: 1.0918\n"
          ]
        },
        {
          "name": "stderr",
          "output_type": "stream",
          "text": [
            "100%|██████████| 938/938 [01:35<00:00,  9.85it/s]\n"
          ]
        },
        {
          "name": "stdout",
          "output_type": "stream",
          "text": [
            "Epoch [14/48], Average Loss: 1.0864\n"
          ]
        },
        {
          "name": "stderr",
          "output_type": "stream",
          "text": [
            "100%|██████████| 938/938 [01:34<00:00,  9.91it/s]\n"
          ]
        },
        {
          "name": "stdout",
          "output_type": "stream",
          "text": [
            "Epoch [15/48], Average Loss: 1.0751\n"
          ]
        },
        {
          "name": "stderr",
          "output_type": "stream",
          "text": [
            "100%|██████████| 938/938 [01:36<00:00,  9.76it/s]\n"
          ]
        },
        {
          "name": "stdout",
          "output_type": "stream",
          "text": [
            "Epoch [16/48], Average Loss: 1.0586\n"
          ]
        },
        {
          "name": "stderr",
          "output_type": "stream",
          "text": [
            "100%|██████████| 938/938 [01:35<00:00,  9.86it/s]\n"
          ]
        },
        {
          "name": "stdout",
          "output_type": "stream",
          "text": [
            "Epoch [17/48], Average Loss: 1.0319\n"
          ]
        },
        {
          "name": "stderr",
          "output_type": "stream",
          "text": [
            "100%|██████████| 938/938 [01:34<00:00,  9.88it/s]\n"
          ]
        },
        {
          "name": "stdout",
          "output_type": "stream",
          "text": [
            "Epoch [18/48], Average Loss: 0.9955\n"
          ]
        },
        {
          "name": "stderr",
          "output_type": "stream",
          "text": [
            "100%|██████████| 938/938 [01:35<00:00,  9.78it/s]\n"
          ]
        },
        {
          "name": "stdout",
          "output_type": "stream",
          "text": [
            "Epoch [19/48], Average Loss: 0.9621\n"
          ]
        },
        {
          "name": "stderr",
          "output_type": "stream",
          "text": [
            "100%|██████████| 938/938 [01:35<00:00,  9.78it/s]\n"
          ]
        },
        {
          "name": "stdout",
          "output_type": "stream",
          "text": [
            "Epoch [20/48], Average Loss: 0.8980\n"
          ]
        },
        {
          "name": "stderr",
          "output_type": "stream",
          "text": [
            "100%|██████████| 938/938 [01:35<00:00,  9.87it/s]\n"
          ]
        },
        {
          "name": "stdout",
          "output_type": "stream",
          "text": [
            "Epoch [21/48], Average Loss: 0.7968\n"
          ]
        },
        {
          "name": "stderr",
          "output_type": "stream",
          "text": [
            "100%|██████████| 938/938 [01:35<00:00,  9.85it/s]\n"
          ]
        },
        {
          "name": "stdout",
          "output_type": "stream",
          "text": [
            "Epoch [22/48], Average Loss: 0.6832\n"
          ]
        },
        {
          "name": "stderr",
          "output_type": "stream",
          "text": [
            "100%|██████████| 938/938 [01:35<00:00,  9.78it/s]\n"
          ]
        },
        {
          "name": "stdout",
          "output_type": "stream",
          "text": [
            "Epoch [23/48], Average Loss: 0.5837\n"
          ]
        },
        {
          "name": "stderr",
          "output_type": "stream",
          "text": [
            "100%|██████████| 938/938 [01:35<00:00,  9.79it/s]\n"
          ]
        },
        {
          "name": "stdout",
          "output_type": "stream",
          "text": [
            "Epoch [24/48], Average Loss: 0.4892\n"
          ]
        },
        {
          "name": "stderr",
          "output_type": "stream",
          "text": [
            "100%|██████████| 938/938 [01:35<00:00,  9.84it/s]\n"
          ]
        },
        {
          "name": "stdout",
          "output_type": "stream",
          "text": [
            "Epoch [25/48], Average Loss: 0.3973\n"
          ]
        },
        {
          "name": "stderr",
          "output_type": "stream",
          "text": [
            "100%|██████████| 938/938 [01:36<00:00,  9.75it/s]\n"
          ]
        },
        {
          "name": "stdout",
          "output_type": "stream",
          "text": [
            "Epoch [26/48], Average Loss: 0.3271\n"
          ]
        },
        {
          "name": "stderr",
          "output_type": "stream",
          "text": [
            "100%|██████████| 938/938 [01:36<00:00,  9.75it/s]\n"
          ]
        },
        {
          "name": "stdout",
          "output_type": "stream",
          "text": [
            "Epoch [27/48], Average Loss: 0.2751\n"
          ]
        },
        {
          "name": "stderr",
          "output_type": "stream",
          "text": [
            "100%|██████████| 938/938 [01:36<00:00,  9.74it/s]\n"
          ]
        },
        {
          "name": "stdout",
          "output_type": "stream",
          "text": [
            "Epoch [28/48], Average Loss: 0.2469\n"
          ]
        },
        {
          "name": "stderr",
          "output_type": "stream",
          "text": [
            "100%|██████████| 938/938 [01:35<00:00,  9.82it/s]\n"
          ]
        },
        {
          "name": "stdout",
          "output_type": "stream",
          "text": [
            "Epoch [29/48], Average Loss: 0.2139\n"
          ]
        },
        {
          "name": "stderr",
          "output_type": "stream",
          "text": [
            "100%|██████████| 938/938 [01:33<00:00, 10.06it/s]\n"
          ]
        },
        {
          "name": "stdout",
          "output_type": "stream",
          "text": [
            "Epoch [30/48], Average Loss: 0.1872\n"
          ]
        },
        {
          "name": "stderr",
          "output_type": "stream",
          "text": [
            "100%|██████████| 938/938 [01:36<00:00,  9.72it/s]\n"
          ]
        },
        {
          "name": "stdout",
          "output_type": "stream",
          "text": [
            "Epoch [31/48], Average Loss: 0.1641\n"
          ]
        },
        {
          "name": "stderr",
          "output_type": "stream",
          "text": [
            "100%|██████████| 938/938 [01:35<00:00,  9.78it/s]\n"
          ]
        },
        {
          "name": "stdout",
          "output_type": "stream",
          "text": [
            "Epoch [32/48], Average Loss: 0.1528\n"
          ]
        },
        {
          "name": "stderr",
          "output_type": "stream",
          "text": [
            "100%|██████████| 938/938 [01:35<00:00,  9.79it/s]\n"
          ]
        },
        {
          "name": "stdout",
          "output_type": "stream",
          "text": [
            "Epoch [33/48], Average Loss: 0.1296\n"
          ]
        },
        {
          "name": "stderr",
          "output_type": "stream",
          "text": [
            "100%|██████████| 938/938 [01:34<00:00,  9.92it/s]\n"
          ]
        },
        {
          "name": "stdout",
          "output_type": "stream",
          "text": [
            "Epoch [34/48], Average Loss: 0.1118\n"
          ]
        },
        {
          "name": "stderr",
          "output_type": "stream",
          "text": [
            "100%|██████████| 938/938 [01:35<00:00,  9.87it/s]\n"
          ]
        },
        {
          "name": "stdout",
          "output_type": "stream",
          "text": [
            "Epoch [35/48], Average Loss: 0.1000\n"
          ]
        },
        {
          "name": "stderr",
          "output_type": "stream",
          "text": [
            "100%|██████████| 938/938 [01:35<00:00,  9.79it/s]\n"
          ]
        },
        {
          "name": "stdout",
          "output_type": "stream",
          "text": [
            "Epoch [36/48], Average Loss: 0.0876\n"
          ]
        },
        {
          "name": "stderr",
          "output_type": "stream",
          "text": [
            "100%|██████████| 938/938 [01:35<00:00,  9.82it/s]\n"
          ]
        },
        {
          "name": "stdout",
          "output_type": "stream",
          "text": [
            "Epoch [37/48], Average Loss: 0.0773\n"
          ]
        },
        {
          "name": "stderr",
          "output_type": "stream",
          "text": [
            "100%|██████████| 938/938 [01:35<00:00,  9.85it/s]\n"
          ]
        },
        {
          "name": "stdout",
          "output_type": "stream",
          "text": [
            "Epoch [38/48], Average Loss: 0.0725\n"
          ]
        },
        {
          "name": "stderr",
          "output_type": "stream",
          "text": [
            "100%|██████████| 938/938 [01:36<00:00,  9.73it/s]\n"
          ]
        },
        {
          "name": "stdout",
          "output_type": "stream",
          "text": [
            "Epoch [39/48], Average Loss: 0.0527\n"
          ]
        },
        {
          "name": "stderr",
          "output_type": "stream",
          "text": [
            "100%|██████████| 938/938 [01:36<00:00,  9.73it/s]\n"
          ]
        },
        {
          "name": "stdout",
          "output_type": "stream",
          "text": [
            "Epoch [40/48], Average Loss: 0.0562\n"
          ]
        },
        {
          "name": "stderr",
          "output_type": "stream",
          "text": [
            "100%|██████████| 938/938 [01:36<00:00,  9.73it/s]\n"
          ]
        },
        {
          "name": "stdout",
          "output_type": "stream",
          "text": [
            "Epoch [41/48], Average Loss: 0.0450\n"
          ]
        },
        {
          "name": "stderr",
          "output_type": "stream",
          "text": [
            "100%|██████████| 938/938 [01:34<00:00,  9.90it/s]\n"
          ]
        },
        {
          "name": "stdout",
          "output_type": "stream",
          "text": [
            "Epoch [42/48], Average Loss: 0.0465\n"
          ]
        },
        {
          "name": "stderr",
          "output_type": "stream",
          "text": [
            "100%|██████████| 938/938 [01:34<00:00,  9.88it/s]\n"
          ]
        },
        {
          "name": "stdout",
          "output_type": "stream",
          "text": [
            "Epoch [43/48], Average Loss: 0.0348\n"
          ]
        },
        {
          "name": "stderr",
          "output_type": "stream",
          "text": [
            "100%|██████████| 938/938 [01:34<00:00,  9.92it/s]\n"
          ]
        },
        {
          "name": "stdout",
          "output_type": "stream",
          "text": [
            "Epoch [44/48], Average Loss: 0.0385\n"
          ]
        },
        {
          "name": "stderr",
          "output_type": "stream",
          "text": [
            "100%|██████████| 938/938 [01:35<00:00,  9.78it/s]\n"
          ]
        },
        {
          "name": "stdout",
          "output_type": "stream",
          "text": [
            "Epoch [45/48], Average Loss: 0.0271\n"
          ]
        },
        {
          "name": "stderr",
          "output_type": "stream",
          "text": [
            "100%|██████████| 938/938 [01:35<00:00,  9.78it/s]\n"
          ]
        },
        {
          "name": "stdout",
          "output_type": "stream",
          "text": [
            "Epoch [46/48], Average Loss: 0.0345\n"
          ]
        },
        {
          "name": "stderr",
          "output_type": "stream",
          "text": [
            "100%|██████████| 938/938 [01:35<00:00,  9.79it/s]\n"
          ]
        },
        {
          "name": "stdout",
          "output_type": "stream",
          "text": [
            "Epoch [47/48], Average Loss: 0.0260\n"
          ]
        },
        {
          "name": "stderr",
          "output_type": "stream",
          "text": [
            "100%|██████████| 938/938 [01:36<00:00,  9.70it/s]"
          ]
        },
        {
          "name": "stdout",
          "output_type": "stream",
          "text": [
            "Epoch [48/48], Average Loss: 0.0237\n"
          ]
        },
        {
          "name": "stderr",
          "output_type": "stream",
          "text": [
            "\n"
          ]
        }
      ],
      "source": [
        "import gc\n",
        "from tqdm import tqdm\n",
        "\n",
        "# training\n",
        "for epoch in range(num_epochs):\n",
        "    model.train()\n",
        "    running_loss = 0.0\n",
        "\n",
        "    for (images, labels) in tqdm(train_loader): # iterate over batches\n",
        "        images, labels = images.to(device), labels.to(device)\n",
        "\n",
        "        # forward pass\n",
        "        outputs = model(images)\n",
        "        loss = criterion(outputs, labels)\n",
        "\n",
        "        # backpropogation\n",
        "        optimizer.zero_grad()\n",
        "        loss.backward()\n",
        "        optimizer.step()\n",
        "\n",
        "        running_loss += loss.item() # track loss\n",
        "\n",
        "        # to prevent gpu from crashing\n",
        "        del images, labels, outputs\n",
        "        torch.cuda.empty_cache()\n",
        "\n",
        "    # loss per epoch\n",
        "    avg_loss = running_loss / len(train_loader)\n",
        "    print(f\"Epoch [{epoch+1}/{num_epochs}], Average Loss: {avg_loss:.4f}\")"
      ]
    },
    {
      "cell_type": "markdown",
      "metadata": {
        "id": "1VFNx_fOyp01"
      },
      "source": [
        "## **Testing the model on validation data**"
      ]
    },
    {
      "cell_type": "markdown",
      "metadata": {
        "id": "8oIpsEgL0gph"
      },
      "source": [
        "Loading the validation data"
      ]
    },
    {
      "cell_type": "code",
      "execution_count": 38,
      "metadata": {
        "id": "0GDpXEKQy1GL"
      },
      "outputs": [],
      "source": [
        "val_data = datasets.DatasetFolder(\n",
        "  root='/content/data/dataset/val',\n",
        "  loader=npy_loader,\n",
        "  extensions=['.npy']\n",
        ")"
      ]
    },
    {
      "cell_type": "code",
      "execution_count": 39,
      "metadata": {
        "id": "RGq9c95VzCRA"
      },
      "outputs": [],
      "source": [
        "val_loader = DataLoader(val_data, batch_size=32, shuffle=True)"
      ]
    },
    {
      "cell_type": "code",
      "execution_count": null,
      "metadata": {
        "id": "vkn0eJ9V0n6e"
      },
      "outputs": [],
      "source": [
        "from sklearn.metrics import accuracy_score, roc_curve, auc, confusion_matrix\n",
        "from sklearn.preprocessing import label_binarize\n",
        "import seaborn as sns"
      ]
    },
    {
      "cell_type": "code",
      "execution_count": 29,
      "metadata": {
        "colab": {
          "base_uri": "https://localhost:8080/"
        },
        "execution": {
          "iopub.execute_input": "2025-03-25T18:32:03.268209Z",
          "iopub.status.busy": "2025-03-25T18:32:03.267870Z",
          "iopub.status.idle": "2025-03-25T18:32:24.410079Z",
          "shell.execute_reply": "2025-03-25T18:32:24.409161Z",
          "shell.execute_reply.started": "2025-03-25T18:32:03.268184Z"
        },
        "id": "3j7GvIgF8ily",
        "outputId": "d7e2797e-903b-4760-9e64-131da0d5a7cf",
        "trusted": true
      },
      "outputs": [
        {
          "name": "stderr",
          "output_type": "stream",
          "text": [
            "100%|██████████| 235/235 [00:19<00:00, 12.23it/s]\n"
          ]
        }
      ],
      "source": [
        "model.eval() # evaluation mode\n",
        "y_true = []\n",
        "y_pred = []\n",
        "probs = []\n",
        "\n",
        "with torch.no_grad():\n",
        "    for images, labels in tqdm(val_loader):\n",
        "        images, labels = images.to(device), labels.to(device)\n",
        "        outputs = model(images)\n",
        "        probabilities = torch.softmax(outputs, dim=1)\n",
        "        _, predicted = torch.max(outputs, 1)\n",
        "\n",
        "        y_true.extend(labels.cpu().numpy())\n",
        "        y_pred.extend(predicted.cpu().numpy())\n",
        "        probs.extend(probabilities.cpu().numpy())\n",
        "\n",
        "        del images, labels, outputs"
      ]
    },
    {
      "cell_type": "markdown",
      "metadata": {},
      "source": [
        "Accuracy"
      ]
    },
    {
      "cell_type": "code",
      "execution_count": null,
      "metadata": {
        "colab": {
          "base_uri": "https://localhost:8080/"
        },
        "execution": {
          "iopub.execute_input": "2025-03-25T18:32:24.411411Z",
          "iopub.status.busy": "2025-03-25T18:32:24.411125Z",
          "iopub.status.idle": "2025-03-25T18:32:24.422329Z",
          "shell.execute_reply": "2025-03-25T18:32:24.421499Z",
          "shell.execute_reply.started": "2025-03-25T18:32:24.411386Z"
        },
        "id": "GiFrDMoS8ilz",
        "outputId": "04e4156e-a4c8-4cc1-a05e-3a7535971632",
        "trusted": true
      },
      "outputs": [
        {
          "data": {
            "text/plain": [
              "0.9165333333333333"
            ]
          },
          "execution_count": 30,
          "metadata": {},
          "output_type": "execute_result"
        }
      ],
      "source": [
        "# accuracy\n",
        "accuracy = accuracy_score(y_true, y_pred)\n",
        "accuracy"
      ]
    },
    {
      "cell_type": "markdown",
      "metadata": {},
      "source": [
        "Confusion Matrix"
      ]
    },
    {
      "cell_type": "code",
      "execution_count": null,
      "metadata": {
        "colab": {
          "base_uri": "https://localhost:8080/",
          "height": 487
        },
        "execution": {
          "iopub.execute_input": "2025-03-25T18:32:31.324891Z",
          "iopub.status.busy": "2025-03-25T18:32:31.324510Z",
          "iopub.status.idle": "2025-03-25T18:32:31.529199Z",
          "shell.execute_reply": "2025-03-25T18:32:31.528317Z",
          "shell.execute_reply.started": "2025-03-25T18:32:31.324862Z"
        },
        "id": "CaA6DlOU8ilz",
        "outputId": "61807f8b-a6d2-436d-b0c3-fc05eed1418e",
        "trusted": true
      },
      "outputs": [
        {
          "data": {
            "image/png": "[encoded data removed]",
            "text/plain": [
              "<Figure size 600x500 with 2 Axes>"
            ]
          },
          "metadata": {},
          "output_type": "display_data"
        }
      ],
      "source": [
        "conf_matrix = confusion_matrix(y_true, y_pred)\n",
        "\n",
        "plt.figure(figsize=(6, 5))\n",
        "sns.heatmap(conf_matrix, annot=True, fmt=\"d\", cmap=\"Blues\", xticklabels=[0,1,2], yticklabels=[0,1,2])\n",
        "plt.xlabel(\"Predicted Label\")\n",
        "plt.ylabel(\"True Label\")\n",
        "plt.title(\"Confusion Matrix\")\n",
        "plt.show()"
      ]
    },
    {
      "cell_type": "markdown",
      "metadata": {},
      "source": [
        "ROC and AUC metrics"
      ]
    },
    {
      "cell_type": "code",
      "execution_count": null,
      "metadata": {
        "colab": {
          "base_uri": "https://localhost:8080/",
          "height": 410
        },
        "execution": {
          "iopub.execute_input": "2025-03-25T18:32:37.920388Z",
          "iopub.status.busy": "2025-03-25T18:32:37.920111Z",
          "iopub.status.idle": "2025-03-25T18:32:38.155181Z",
          "shell.execute_reply": "2025-03-25T18:32:38.154273Z",
          "shell.execute_reply.started": "2025-03-25T18:32:37.920366Z"
        },
        "id": "sXEX_Kp68il0",
        "outputId": "0794f930-42de-49eb-8bbe-ab6f0bc5b4f0",
        "trusted": true
      },
      "outputs": [
        {
          "data": {
            "image/png": "[encoded data removed]",
            "text/plain": [
              "<Figure size 700x400 with 1 Axes>"
            ]
          },
          "metadata": {},
          "output_type": "display_data"
        }
      ],
      "source": [
        "enc = label_binarize(y_true, classes=[0, 1, 2])  # labels to one-hot encoding\n",
        "\n",
        "# false positive rate, true positive rate, auc values for each class\n",
        "fpr, tpr, auc_val = {}, {}, {}\n",
        "\n",
        "plt.figure(figsize=(7, 4))\n",
        "for i in range(3):\n",
        "    fpr[i], tpr[i], _ = roc_curve(enc[:, i], np.array(probs)[:, i])\n",
        "    auc_val[i] = auc(fpr[i], tpr[i]) # calculate the AUC scores with respect to the fpr and tpr\n",
        "\n",
        "    plt.plot(fpr[i], tpr[i], label='class '+str(i)) # ROC curve for each class\n",
        "\n",
        "plt.plot([0, 1], [0, 1], 'k--') # the random classifier line\n",
        "plt.xlabel('False Positive Rate')\n",
        "plt.ylabel('True Positive Rate')\n",
        "plt.title('ROC Curve for Each Class')\n",
        "plt.legend()\n",
        "plt.grid()"
      ]
    },
    {
      "cell_type": "code",
      "execution_count": 35,
      "metadata": {
        "colab": {
          "base_uri": "https://localhost:8080/"
        },
        "execution": {
          "iopub.execute_input": "2025-03-25T18:32:39.571769Z",
          "iopub.status.busy": "2025-03-25T18:32:39.571455Z",
          "iopub.status.idle": "2025-03-25T18:32:39.576181Z",
          "shell.execute_reply": "2025-03-25T18:32:39.575097Z",
          "shell.execute_reply.started": "2025-03-25T18:32:39.571742Z"
        },
        "id": "OmqxgPyb8il0",
        "outputId": "2c344c9e-3013-435f-e410-c4dc560f992e",
        "trusted": true
      },
      "outputs": [
        {
          "name": "stdout",
          "output_type": "stream",
          "text": [
            "AUC Score for Class 0: 0.988\n",
            "AUC Score for Class 1: 0.970\n",
            "AUC Score for Class 2: 0.988\n"
          ]
        }
      ],
      "source": [
        "for i in range(3):  # 3 class\n",
        "    print(f\"AUC Score for Class {i}: {auc_val[i]:.3f}\")"
      ]
    },
    {
      "cell_type": "markdown",
      "metadata": {
        "id": "hN9HSvIHyYs7"
      },
      "source": [
        "## **Saving the model**"
      ]
    },
    {
      "cell_type": "code",
      "execution_count": 36,
      "metadata": {
        "colab": {
          "base_uri": "https://localhost:8080/"
        },
        "id": "WE05ALaBRC9q",
        "outputId": "49560994-c33c-4dd9-8ce0-de90d14c9c01"
      },
      "outputs": [
        {
          "name": "stdout",
          "output_type": "stream",
          "text": [
            "model saved!\n"
          ]
        }
      ],
      "source": [
        "save_path = \"/content/classification_model.pth\"\n",
        "\n",
        "model.eval()\n",
        "torch.save(model.state_dict(), save_path)\n",
        "print(f\"model saved!\")"
      ]
    },
    {
      "cell_type": "markdown",
      "metadata": {
        "id": "VrTid5mW1rHx"
      },
      "source": [
        "and finally ....\n",
        "### *The Training Weights of the model*"
      ]
    },
    {
      "cell_type": "code",
      "execution_count": 37,
      "metadata": {
        "colab": {
          "base_uri": "https://localhost:8080/"
        },
        "id": "Bd52iX0SyabW",
        "outputId": "5e42580a-027b-4ac2-dc78-bdc014f15711"
      },
      "outputs": [
        {
          "data": {
            "text/plain": [
              "ResNet(\n",
              "  (conv1): Sequential(\n",
              "    (0): Conv2d(1, 64, kernel_size=(7, 7), stride=(2, 2), padding=(3, 3))\n",
              "    (1): BatchNorm2d(64, eps=1e-05, momentum=0.1, affine=True, track_running_stats=True)\n",
              "    (2): ReLU()\n",
              "  )\n",
              "  (maxpool): MaxPool2d(kernel_size=3, stride=2, padding=1, dilation=1, ceil_mode=False)\n",
              "  (layer0): Sequential(\n",
              "    (0): ResidualBlock(\n",
              "      (conv1): Sequential(\n",
              "        (0): Conv2d(64, 64, kernel_size=(3, 3), stride=(1, 1), padding=(1, 1), bias=False)\n",
              "        (1): BatchNorm2d(64, eps=1e-05, momentum=0.1, affine=True, track_running_stats=True)\n",
              "        (2): ReLU(inplace=True)\n",
              "      )\n",
              "      (conv2): Sequential(\n",
              "        (0): Conv2d(64, 64, kernel_size=(3, 3), stride=(1, 1), padding=(1, 1), bias=False)\n",
              "        (1): BatchNorm2d(64, eps=1e-05, momentum=0.1, affine=True, track_running_stats=True)\n",
              "      )\n",
              "      (relu): ReLU(inplace=True)\n",
              "    )\n",
              "    (1): ResidualBlock(\n",
              "      (conv1): Sequential(\n",
              "        (0): Conv2d(64, 64, kernel_size=(3, 3), stride=(1, 1), padding=(1, 1), bias=False)\n",
              "        (1): BatchNorm2d(64, eps=1e-05, momentum=0.1, affine=True, track_running_stats=True)\n",
              "        (2): ReLU(inplace=True)\n",
              "      )\n",
              "      (conv2): Sequential(\n",
              "        (0): Conv2d(64, 64, kernel_size=(3, 3), stride=(1, 1), padding=(1, 1), bias=False)\n",
              "        (1): BatchNorm2d(64, eps=1e-05, momentum=0.1, affine=True, track_running_stats=True)\n",
              "      )\n",
              "      (relu): ReLU(inplace=True)\n",
              "    )\n",
              "    (2): ResidualBlock(\n",
              "      (conv1): Sequential(\n",
              "        (0): Conv2d(64, 64, kernel_size=(3, 3), stride=(1, 1), padding=(1, 1), bias=False)\n",
              "        (1): BatchNorm2d(64, eps=1e-05, momentum=0.1, affine=True, track_running_stats=True)\n",
              "        (2): ReLU(inplace=True)\n",
              "      )\n",
              "      (conv2): Sequential(\n",
              "        (0): Conv2d(64, 64, kernel_size=(3, 3), stride=(1, 1), padding=(1, 1), bias=False)\n",
              "        (1): BatchNorm2d(64, eps=1e-05, momentum=0.1, affine=True, track_running_stats=True)\n",
              "      )\n",
              "      (relu): ReLU(inplace=True)\n",
              "    )\n",
              "  )\n",
              "  (layer1): Sequential(\n",
              "    (0): ResidualBlock(\n",
              "      (conv1): Sequential(\n",
              "        (0): Conv2d(64, 128, kernel_size=(3, 3), stride=(2, 2), padding=(1, 1), bias=False)\n",
              "        (1): BatchNorm2d(128, eps=1e-05, momentum=0.1, affine=True, track_running_stats=True)\n",
              "        (2): ReLU(inplace=True)\n",
              "      )\n",
              "      (conv2): Sequential(\n",
              "        (0): Conv2d(128, 128, kernel_size=(3, 3), stride=(1, 1), padding=(1, 1), bias=False)\n",
              "        (1): BatchNorm2d(128, eps=1e-05, momentum=0.1, affine=True, track_running_stats=True)\n",
              "      )\n",
              "      (downsample): Sequential(\n",
              "        (0): Conv2d(64, 128, kernel_size=(1, 1), stride=(2, 2), bias=False)\n",
              "        (1): BatchNorm2d(128, eps=1e-05, momentum=0.1, affine=True, track_running_stats=True)\n",
              "      )\n",
              "      (relu): ReLU(inplace=True)\n",
              "    )\n",
              "    (1): ResidualBlock(\n",
              "      (conv1): Sequential(\n",
              "        (0): Conv2d(128, 128, kernel_size=(3, 3), stride=(1, 1), padding=(1, 1), bias=False)\n",
              "        (1): BatchNorm2d(128, eps=1e-05, momentum=0.1, affine=True, track_running_stats=True)\n",
              "        (2): ReLU(inplace=True)\n",
              "      )\n",
              "      (conv2): Sequential(\n",
              "        (0): Conv2d(128, 128, kernel_size=(3, 3), stride=(1, 1), padding=(1, 1), bias=False)\n",
              "        (1): BatchNorm2d(128, eps=1e-05, momentum=0.1, affine=True, track_running_stats=True)\n",
              "      )\n",
              "      (relu): ReLU(inplace=True)\n",
              "    )\n",
              "    (2): ResidualBlock(\n",
              "      (conv1): Sequential(\n",
              "        (0): Conv2d(128, 128, kernel_size=(3, 3), stride=(1, 1), padding=(1, 1), bias=False)\n",
              "        (1): BatchNorm2d(128, eps=1e-05, momentum=0.1, affine=True, track_running_stats=True)\n",
              "        (2): ReLU(inplace=True)\n",
              "      )\n",
              "      (conv2): Sequential(\n",
              "        (0): Conv2d(128, 128, kernel_size=(3, 3), stride=(1, 1), padding=(1, 1), bias=False)\n",
              "        (1): BatchNorm2d(128, eps=1e-05, momentum=0.1, affine=True, track_running_stats=True)\n",
              "      )\n",
              "      (relu): ReLU(inplace=True)\n",
              "    )\n",
              "    (3): ResidualBlock(\n",
              "      (conv1): Sequential(\n",
              "        (0): Conv2d(128, 128, kernel_size=(3, 3), stride=(1, 1), padding=(1, 1), bias=False)\n",
              "        (1): BatchNorm2d(128, eps=1e-05, momentum=0.1, affine=True, track_running_stats=True)\n",
              "        (2): ReLU(inplace=True)\n",
              "      )\n",
              "      (conv2): Sequential(\n",
              "        (0): Conv2d(128, 128, kernel_size=(3, 3), stride=(1, 1), padding=(1, 1), bias=False)\n",
              "        (1): BatchNorm2d(128, eps=1e-05, momentum=0.1, affine=True, track_running_stats=True)\n",
              "      )\n",
              "      (relu): ReLU(inplace=True)\n",
              "    )\n",
              "  )\n",
              "  (layer2): Sequential(\n",
              "    (0): ResidualBlock(\n",
              "      (conv1): Sequential(\n",
              "        (0): Conv2d(128, 256, kernel_size=(3, 3), stride=(2, 2), padding=(1, 1), bias=False)\n",
              "        (1): BatchNorm2d(256, eps=1e-05, momentum=0.1, affine=True, track_running_stats=True)\n",
              "        (2): ReLU(inplace=True)\n",
              "      )\n",
              "      (conv2): Sequential(\n",
              "        (0): Conv2d(256, 256, kernel_size=(3, 3), stride=(1, 1), padding=(1, 1), bias=False)\n",
              "        (1): BatchNorm2d(256, eps=1e-05, momentum=0.1, affine=True, track_running_stats=True)\n",
              "      )\n",
              "      (downsample): Sequential(\n",
              "        (0): Conv2d(128, 256, kernel_size=(1, 1), stride=(2, 2), bias=False)\n",
              "        (1): BatchNorm2d(256, eps=1e-05, momentum=0.1, affine=True, track_running_stats=True)\n",
              "      )\n",
              "      (relu): ReLU(inplace=True)\n",
              "    )\n",
              "    (1): ResidualBlock(\n",
              "      (conv1): Sequential(\n",
              "        (0): Conv2d(256, 256, kernel_size=(3, 3), stride=(1, 1), padding=(1, 1), bias=False)\n",
              "        (1): BatchNorm2d(256, eps=1e-05, momentum=0.1, affine=True, track_running_stats=True)\n",
              "        (2): ReLU(inplace=True)\n",
              "      )\n",
              "      (conv2): Sequential(\n",
              "        (0): Conv2d(256, 256, kernel_size=(3, 3), stride=(1, 1), padding=(1, 1), bias=False)\n",
              "        (1): BatchNorm2d(256, eps=1e-05, momentum=0.1, affine=True, track_running_stats=True)\n",
              "      )\n",
              "      (relu): ReLU(inplace=True)\n",
              "    )\n",
              "    (2): ResidualBlock(\n",
              "      (conv1): Sequential(\n",
              "        (0): Conv2d(256, 256, kernel_size=(3, 3), stride=(1, 1), padding=(1, 1), bias=False)\n",
              "        (1): BatchNorm2d(256, eps=1e-05, momentum=0.1, affine=True, track_running_stats=True)\n",
              "        (2): ReLU(inplace=True)\n",
              "      )\n",
              "      (conv2): Sequential(\n",
              "        (0): Conv2d(256, 256, kernel_size=(3, 3), stride=(1, 1), padding=(1, 1), bias=False)\n",
              "        (1): BatchNorm2d(256, eps=1e-05, momentum=0.1, affine=True, track_running_stats=True)\n",
              "      )\n",
              "      (relu): ReLU(inplace=True)\n",
              "    )\n",
              "    (3): ResidualBlock(\n",
              "      (conv1): Sequential(\n",
              "        (0): Conv2d(256, 256, kernel_size=(3, 3), stride=(1, 1), padding=(1, 1), bias=False)\n",
              "        (1): BatchNorm2d(256, eps=1e-05, momentum=0.1, affine=True, track_running_stats=True)\n",
              "        (2): ReLU(inplace=True)\n",
              "      )\n",
              "      (conv2): Sequential(\n",
              "        (0): Conv2d(256, 256, kernel_size=(3, 3), stride=(1, 1), padding=(1, 1), bias=False)\n",
              "        (1): BatchNorm2d(256, eps=1e-05, momentum=0.1, affine=True, track_running_stats=True)\n",
              "      )\n",
              "      (relu): ReLU(inplace=True)\n",
              "    )\n",
              "    (4): ResidualBlock(\n",
              "      (conv1): Sequential(\n",
              "        (0): Conv2d(256, 256, kernel_size=(3, 3), stride=(1, 1), padding=(1, 1), bias=False)\n",
              "        (1): BatchNorm2d(256, eps=1e-05, momentum=0.1, affine=True, track_running_stats=True)\n",
              "        (2): ReLU(inplace=True)\n",
              "      )\n",
              "      (conv2): Sequential(\n",
              "        (0): Conv2d(256, 256, kernel_size=(3, 3), stride=(1, 1), padding=(1, 1), bias=False)\n",
              "        (1): BatchNorm2d(256, eps=1e-05, momentum=0.1, affine=True, track_running_stats=True)\n",
              "      )\n",
              "      (relu): ReLU(inplace=True)\n",
              "    )\n",
              "    (5): ResidualBlock(\n",
              "      (conv1): Sequential(\n",
              "        (0): Conv2d(256, 256, kernel_size=(3, 3), stride=(1, 1), padding=(1, 1), bias=False)\n",
              "        (1): BatchNorm2d(256, eps=1e-05, momentum=0.1, affine=True, track_running_stats=True)\n",
              "        (2): ReLU(inplace=True)\n",
              "      )\n",
              "      (conv2): Sequential(\n",
              "        (0): Conv2d(256, 256, kernel_size=(3, 3), stride=(1, 1), padding=(1, 1), bias=False)\n",
              "        (1): BatchNorm2d(256, eps=1e-05, momentum=0.1, affine=True, track_running_stats=True)\n",
              "      )\n",
              "      (relu): ReLU(inplace=True)\n",
              "    )\n",
              "  )\n",
              "  (layer3): Sequential(\n",
              "    (0): ResidualBlock(\n",
              "      (conv1): Sequential(\n",
              "        (0): Conv2d(256, 512, kernel_size=(3, 3), stride=(2, 2), padding=(1, 1), bias=False)\n",
              "        (1): BatchNorm2d(512, eps=1e-05, momentum=0.1, affine=True, track_running_stats=True)\n",
              "        (2): ReLU(inplace=True)\n",
              "      )\n",
              "      (conv2): Sequential(\n",
              "        (0): Conv2d(512, 512, kernel_size=(3, 3), stride=(1, 1), padding=(1, 1), bias=False)\n",
              "        (1): BatchNorm2d(512, eps=1e-05, momentum=0.1, affine=True, track_running_stats=True)\n",
              "      )\n",
              "      (downsample): Sequential(\n",
              "        (0): Conv2d(256, 512, kernel_size=(1, 1), stride=(2, 2), bias=False)\n",
              "        (1): BatchNorm2d(512, eps=1e-05, momentum=0.1, affine=True, track_running_stats=True)\n",
              "      )\n",
              "      (relu): ReLU(inplace=True)\n",
              "    )\n",
              "    (1): ResidualBlock(\n",
              "      (conv1): Sequential(\n",
              "        (0): Conv2d(512, 512, kernel_size=(3, 3), stride=(1, 1), padding=(1, 1), bias=False)\n",
              "        (1): BatchNorm2d(512, eps=1e-05, momentum=0.1, affine=True, track_running_stats=True)\n",
              "        (2): ReLU(inplace=True)\n",
              "      )\n",
              "      (conv2): Sequential(\n",
              "        (0): Conv2d(512, 512, kernel_size=(3, 3), stride=(1, 1), padding=(1, 1), bias=False)\n",
              "        (1): BatchNorm2d(512, eps=1e-05, momentum=0.1, affine=True, track_running_stats=True)\n",
              "      )\n",
              "      (relu): ReLU(inplace=True)\n",
              "    )\n",
              "    (2): ResidualBlock(\n",
              "      (conv1): Sequential(\n",
              "        (0): Conv2d(512, 512, kernel_size=(3, 3), stride=(1, 1), padding=(1, 1), bias=False)\n",
              "        (1): BatchNorm2d(512, eps=1e-05, momentum=0.1, affine=True, track_running_stats=True)\n",
              "        (2): ReLU(inplace=True)\n",
              "      )\n",
              "      (conv2): Sequential(\n",
              "        (0): Conv2d(512, 512, kernel_size=(3, 3), stride=(1, 1), padding=(1, 1), bias=False)\n",
              "        (1): BatchNorm2d(512, eps=1e-05, momentum=0.1, affine=True, track_running_stats=True)\n",
              "      )\n",
              "      (relu): ReLU(inplace=True)\n",
              "    )\n",
              "  )\n",
              "  (avgpool): AdaptiveAvgPool2d(output_size=1)\n",
              "  (fc): Linear(in_features=512, out_features=3, bias=True)\n",
              "  (dropout): Dropout(p=0.5, inplace=False)\n",
              ")"
            ]
          },
          "execution_count": 37,
          "metadata": {},
          "output_type": "execute_result"
        }
      ],
      "source": [
        "mod = ResNet(ResidualBlock, [3, 4, 6, 3])\n",
        "mod.load_state_dict(torch.load('/content/classification_model.pth', weights_only=True))\n",
        "mod.eval()"
      ]
    }
  ],
  "metadata": {
    "accelerator": "GPU",
    "colab": {
      "gpuType": "T4",
      "provenance": []
    },
    "kaggle": {
      "accelerator": "gpu",
      "dataSources": [
        {
          "datasetId": 6898163,
          "sourceId": 11069725,
          "sourceType": "datasetVersion"
        }
      ],
      "dockerImageVersionId": 30919,
      "isGpuEnabled": true,
      "isInternetEnabled": true,
      "language": "python",
      "sourceType": "notebook"
    },
    "kernelspec": {
      "display_name": "Python 3",
      "name": "python3"
    },
    "language_info": {
      "codemirror_mode": {
        "name": "ipython",
        "version": 3
      },
      "file_extension": ".py",
      "mimetype": "text/x-python",
      "name": "python",
      "nbconvert_exporter": "python",
      "pygments_lexer": "ipython3",
      "version": "3.10.12"
    }
  },
  "nbformat": 4,
  "nbformat_minor": 0
}
